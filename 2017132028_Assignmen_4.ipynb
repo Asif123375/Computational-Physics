{
  "nbformat": 4,
  "nbformat_minor": 0,
  "metadata": {
    "colab": {
      "name": "2017132028_Assignmen-4.ipynb",
      "provenance": [],
      "authorship_tag": "ABX9TyPZCAxitGVuuQgnhjWVxLuE",
      "include_colab_link": true
    },
    "kernelspec": {
      "name": "python3",
      "display_name": "Python 3"
    },
    "language_info": {
      "name": "python"
    }
  },
  "cells": [
    {
      "cell_type": "markdown",
      "metadata": {
        "id": "view-in-github",
        "colab_type": "text"
      },
      "source": [
        "<a href=\"https://colab.research.google.com/github/Asif123375/Computational-Physics/blob/main/2017132028_Assignmen_4.ipynb\" target=\"_parent\"><img src=\"https://colab.research.google.com/assets/colab-badge.svg\" alt=\"Open In Colab\"/></a>"
      ]
    },
    
    },
    {
      "cell_type": "markdown",
      "source": [
        "# Numerical Solution of PDE-Elliptical Using Jacobi_Method & Gauss_Seidal Method"
      ],
      "metadata": {
        "id": "0tZTwmI6PnUc"
      }
    },
    {
      "cell_type": "code",
      "source": [
        "import numpy as np\n",
        "import matplotlib.pyplot as plt\n",
        "%matplotlib inline\n",
        "\n",
        "def Jacobi_Method():\n",
        "  \"\"\" This function will solve the PDE of Laplace Equation Using Jacobi Method\"\"\"\n",
        "  # declear the value of initial value of u4 = 0\n",
        "  u4_in = 0 \n",
        "  # using diagonal formula calculate u1(0), u1(0) = (1000+ u4_in + 1000 + 2000)/4\n",
        "  u1 = 1000\n",
        "  # using standard formula calculate u2(0),u3(0),u4(0)\n",
        "  u2 = 625\n",
        "  u3 = 875\n",
        "  u4 = 375\n",
        "  list1 = []\n",
        "  # Now by the help of for loop calculate the actual value of u1,u2,u3,u4 using Jacobi's Method\n",
        "  for i in range(10):\n",
        "    u1_new = round(0.25*(1000 + u3 + 2000 + u2))\n",
        "    u2_new = round(0.25*(u1 + 500 + 1000 + u4))\n",
        "    u3_new = round(0.25*(u4 + 2000 + u1 + 500))\n",
        "    u4_new = round(0.25*(u2 + 0 + u3 + 0))\n",
        "    if u1_new == u1 and u2_new == u2 and u3_new == u3 and u4_new == u4:\n",
        "      list1.append([u1_new, u2_new, u3_new, u4_new])\n",
        "      # print(f\"After {i} iteration match the value in Jacobi_Method\")\n",
        "      break \n",
        "    u1 = u1_new\n",
        "    u2 = u2_new\n",
        "    u3 = u3_new\n",
        "    u4 = u4_new\n",
        "  return list1\n",
        "\n",
        "# Now Using Gauss Seidal Method:\n",
        "\n",
        "def Gauss_Seidal():\n",
        "  \"\"\"This function solve the Laplace equation using Gauss Seidal Method\"\"\"\n",
        "  # declear the value of initial value of u4 = 0\n",
        "  u4_in = 0 \n",
        "  # using diagonal formula calculate u1(0), u1(0) = (1000+ u4_in + 1000 + 2000)/4\n",
        "  u1 = 1000\n",
        "  # using standard formula calculate u2(0),u3(0),u4(0)\n",
        "  u2 = 625\n",
        "  u3 = 875\n",
        "  u4 = 375\n",
        "  list1 = []\n",
        "  # Now by the help of for loop calculate the actual value of u1,u2,u3,u4 using Jacobi's Method\n",
        "  for i in range(1000):\n",
        "    u1_new = round(0.25*(1000 + u3 + 2000 + u2))\n",
        "    u2_new = round(0.25*(u1_new + 500 + 1000 + u4))\n",
        "    u3_new = round(0.25*(u4 + 2000 + u1_new + 500))\n",
        "    u4_new = round(0.25*(u2_new + 0 + u3_new + 0))\n",
        "    if u1_new == u1 and u2_new == u2 and u3_new == u3 and u4_new == u4:\n",
        "      list1.append([u1_new, u2_new, u3_new, u4_new])\n",
        "      # print(f\"After {i} iteration match the value in Gauss_Seidal_Method\")\n",
        "      break \n",
        "    u1 = u1_new\n",
        "    u2 = u2_new\n",
        "    u3 = u3_new\n",
        "    u4 = u4_new\n",
        "  return list1\n",
        "\n",
        "\n",
        "results_1 = Jacobi_Method()\n",
        "print(\"Results of PDE by Jacob's Method is:\",results_1[0])\n",
        "results_2 = Gauss_Seidal()\n",
        "print(\"Results of PDE by Gauss Seidal Method is:\", results_2[0])"
      ],
      "metadata": {
        "colab": {
          "base_uri": "https://localhost:8080/"
        },
        "id": "qF53uSqCdX9u",
        "outputId": "b6093584-d64c-47b1-fbfb-3bbf1b74517b"
      },
      "execution_count": null,
      "outputs": [
        {
          "output_type": "stream",
          "name": "stdout",
          "text": [
            "Results of PDE by Jacob's Method is: [1208, 792, 1042, 458]\n",
            "Results of PDE by Gauss Seidal Method is: [1208, 792, 1042, 458]\n"
          ]
        }
      ]
    }
  ]
}
