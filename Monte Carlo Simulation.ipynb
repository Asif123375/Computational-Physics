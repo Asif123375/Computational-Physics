{
  "nbformat": 4,
  "nbformat_minor": 0,
  "metadata": {
    "colab": {
      "name": "Assignment7.ipynb",
      "provenance": [],
      "authorship_tag": "ABX9TyMB7Ei73AQnohMytPM6kKKo",
      "include_colab_link": true
    },
    "kernelspec": {
      "name": "python3",
      "display_name": "Python 3"
    },
    "language_info": {
      "name": "python"
    }
  },
  "cells": [
    {
      "cell_type": "markdown",
      "metadata": {
        "id": "view-in-github",
        "colab_type": "text"
      },
      "source": [
        "<a href=\"https://colab.research.google.com/github/Asif123375/Computational-Physics/blob/main/Monte%20Carlo%20Simulation.ipynb\" target=\"_parent\"><img src=\"https://colab.research.google.com/assets/colab-badge.svg\" alt=\"Open In Colab\"/></a>"
      ]
    },
    {
      "cell_type": "markdown",
      "source": [
        "## Monte Carlo Simulation (Integration of Sin(x) in the limit x=0 to x=pi)"
      ],
      "metadata": {
        "id": "H3d6GVQYnFTW"
      }
    },
    {
      "cell_type": "code",
      "execution_count": null,
      "metadata": {
        "colab": {
          "base_uri": "https://localhost:8080/"
        },
        "id": "iRUv4auOnBUW",
        "outputId": "53484f8f-55a1-4472-e1ea-b8675716ce33"
      },
      "outputs": [
        {
          "output_type": "stream",
          "name": "stdout",
          "text": [
            "The area is 2\n"
          ]
        }
      ],
      "source": [
        "import numpy as np\n",
        "import pandas as pd\n",
        "import matplotlib.pyplot as plt\n",
        "%matplotlib inline\n",
        "def sin_fun(x):\n",
        "  \"\"\"This function return sine value for differents value of x\"\"\"\n",
        "  return np.sin(x)\n",
        "\n",
        "def monte_carlo_simulation(l_limit, u_limit, base, height):\n",
        "  \"\"\"This function return the area of the given function\"\"\"\n",
        "  area_of_ractangle = base*height\n",
        "  x_coordinate = np.random.uniform(l_limit, u_limit, 1000000)\n",
        "  y_coordinate = np.random.uniform(l_limit,height,1000000)\n",
        "  number_count = 0\n",
        "  for i in range(len(x_coordinate)):\n",
        "    if y_coordinate[i] <= sin_fun(x_coordinate[i]):\n",
        "      number_count += 1\n",
        "  final_area = (number_count/ len(x_coordinate))*area_of_ractangle\n",
        "  return final_area\n",
        "\n",
        "# Area is the final result of the integration of given function\n",
        "area = monte_carlo_simulation(0, np.pi, np.pi, 1)\n",
        "print(f\"The area is {round(area)}\")"
      ]
    }
  ]
}