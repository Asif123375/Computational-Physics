{
  "nbformat": 4,
  "nbformat_minor": 0,
  "metadata": {
    "colab": {
      "name": "Monte_Carlo_Simulation.ipynb",
      "provenance": [],
      "authorship_tag": "ABX9TyMpOvzzVszzeC0gaFU5a5p6",
      "include_colab_link": true
    },
    "kernelspec": {
      "name": "python3",
      "display_name": "Python 3"
    },
    "language_info": {
      "name": "python"
    }
  },
  "cells": [
    {
      "cell_type": "markdown",
      "metadata": {
        "id": "view-in-github",
        "colab_type": "text"
      },
      "source": [
        "<a href=\"https://colab.research.google.com/github/Asif123375/Computational-Physics/blob/main/Monte_Carlo_Simulation.ipynb\" target=\"_parent\"><img src=\"https://colab.research.google.com/assets/colab-badge.svg\" alt=\"Open In Colab\"/></a>"
      ]
    },
    {
      "cell_type": "markdown",
      "source": [
        "# Monte Carlo Simulation (Variational MC for the Simple Harmonic Oscillator to estimate the ground state energy)"
      ],
      "metadata": {
        "id": "VCLdaBbrKSV6"
      }
    },
    {
      "cell_type": "code",
      "execution_count": null,
      "metadata": {
        "colab": {
          "base_uri": "https://localhost:8080/"
        },
        "id": "MhFCHWFEFgvH",
        "outputId": "c3e01953-598d-4851-bfc3-dcfbc2260dd7"
      },
      "outputs": [
        {
          "output_type": "stream",
          "name": "stdout",
          "text": [
            "Ground State Energy is = 2.012258107858844e+21 in h_cutw unit\n"
          ]
        }
      ],
      "source": [
        "# Given Value:\n",
        "# alpha = 4.523*10^10\n",
        "# L = 9.046*10^10\n",
        "# sigma = 0.5*alpha^-1/2\n",
        "# meu = 0\n",
        "# Ground State Energy in h_cut_wo unit = (-1/2L*(-2*alpha + 4*alpha^2*x^2) + 0.5*L*x^2).mean()\n",
        "\n",
        "import numpy as np\n",
        "import sympy as sp\n",
        "sp.init_printing()\n",
        "import matplotlib.pyplot as plt\n",
        "def sigma(alpha):\n",
        "  \"\"\"This Function Return the value of Standard deviation sigma\"\"\"\n",
        "  return 0.5*(alpha**(-0.5))\n",
        "\n",
        "def ground_state(alpha, L, meu):\n",
        "  \"\"\"This function calculate the ground state energy of a SHO\"\"\"\n",
        "  \"\"\"Return Value is Ground State energy in h_cut omega unit\"\"\"\n",
        "  std = sigma(alpha)\n",
        "  # gaussian Random Number\n",
        "  gaussian_x = np.random.normal(meu, std, 10000)\n",
        "  # Empty list for store energy for different random value\n",
        "  g_state = []\n",
        "  for x in gaussian_x:\n",
        "    g_state.append(((-1/2*L)*(-2*alpha + 4*(alpha**2)*(x**2)) + 0.5*L*x**2))\n",
        "   \n",
        "  # return the mean value of the energy\n",
        "  return np.mean(g_state)\n",
        "# given Data\n",
        "alpha = 4.523e10\n",
        "L = 9.046e10\n",
        "meu = 0\n",
        "g_energy = ground_state(alpha=alpha, L=L, meu=meu)\n",
        "h = sp.Symbol('hbar')\n",
        "print(f\"Ground State Energy is = {g_energy} in h_cut unit\")"
      ]
    },
    {
      "cell_type": "code",
      "source": [
        ""
      ],
      "metadata": {
        "id": "7eQs7zSxIhLp"
      },
      "execution_count": null,
      "outputs": []
    }
  ]
}