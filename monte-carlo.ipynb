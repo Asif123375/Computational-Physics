# Monte Carlo Simulation (Variational MC for the Simple Harmonic Oscillator to estimate the ground state energy)
# Given Value:
# alpha = 4.523*10^10
# L = 9.046*10^10
# sigma = 0.5*alpha^-1/2
# meu = 0
# Ground State Energy in h_cut_wo unit = (-1/2L*(-2*alpha + 4*alpha^2*x^2) + 0.5*L*x^2).mean()

import numpy as np
import sympy as sp
sp.init_printing()
import matplotlib.pyplot as plt
def sigma(alpha):
  """This Function Return the value of Standard deviation sigma"""
  return 0.5*(alpha**(-0.5))

def ground_state(alpha, L, meu):
  """This function calculate the ground state energy of a SHO"""
  """Return Value is Ground State energy in h_cut omega unit"""
  std = sigma(alpha)
  # gaussian Random Number
  gaussian_x = np.random.normal(meu, std, 10000)
  # Empty list for store energy for different random value
  g_state = []
  for x in gaussian_x:
    g_state.append(((-1/2*L)*(-2*alpha + 4*(alpha**2)*(x**2)) + 0.5*L*x**2))
   
  # return the mean value of the energy
  return np.mean(g_state)
# given Data
alpha = 4.523e10
L = 9.046e10
meu = 0
g_energy = ground_state(alpha=alpha, L=L, meu=meu)
h = sp.Symbol('hbar')
print(f"Ground State Energy is = {g_energy} in h_cut unit")
