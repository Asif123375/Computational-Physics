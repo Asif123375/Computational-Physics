{
  "nbformat": 4,
  "nbformat_minor": 0,
  "metadata": {
    "colab": {
      "name": "Assignment8.ipynb",
      "provenance": [],
      "collapsed_sections": [],
      "authorship_tag": "ABX9TyMz450f2HAT8AnMbRVK/2ck",
      "include_colab_link": true
    },
    "kernelspec": {
      "name": "python3",
      "display_name": "Python 3"
    },
    "language_info": {
      "name": "python"
    }
  },
  "cells": [
    {
      "cell_type": "markdown",
      "metadata": {
        "id": "view-in-github",
        "colab_type": "text"
      },
      "source": [
        "<a href=\"https://colab.research.google.com/github/Asif123375/Computational-Physics/blob/main/Monte_Carlo_Simulation-1.ipynb\" target=\"_parent\"><img src=\"https://colab.research.google.com/assets/colab-badge.svg\" alt=\"Open In Colab\"/></a>"
      ]
    },
    {
      "cell_type": "markdown",
      "source": [
        "# Monte Carlo Simulation (Probability of finding a dot inside a circle surrounded by a square of side length 2)"
      ],
      "metadata": {
        "id": "eSnBom5Mxave"
      }
    },
    {
      "cell_type": "code",
      "execution_count": 8,
      "metadata": {
        "colab": {
          "base_uri": "https://localhost:8080/"
        },
        "id": "J-dFn40Cov3Z",
        "outputId": "2c89d7e5-f13a-4788-af08-b919cc0965a9"
      },
      "outputs": [
        {
          "output_type": "stream",
          "name": "stdout",
          "text": [
            "Probabilty of find a dot inside a circle is = 78 %\n"
          ]
        }
      ],
      "source": [
        "import numpy as np\n",
        "import math\n",
        "def find_probability_of_a_dot(length_of_squre):\n",
        "  \"\"\"This function return Probability of finding a dot inside a circle surrounded by a square of side of given length\"\"\"\n",
        "\n",
        "  radius_of_circle = length_of_squre/2\n",
        "  N = 100000\n",
        "  circ = 0\n",
        "  for i in range(N):\n",
        "    x = np.random.uniform(-1,1)\n",
        "    y = np.random.uniform(-1,1)\n",
        "    if x**2 + y**2 <= radius_of_circle:\n",
        "      circ += 1\n",
        "  probability = circ/N\n",
        "  return probability\n",
        "\n",
        "probabilty = find_probability_of_a_dot(2)\n",
        "print(f\"Probabilty of find a dot inside a circle is = {math.floor(probabilty*100)} %\")"
      ]
    },
    {
      "cell_type": "code",
      "source": [
        ""
      ],
      "metadata": {
        "id": "qHNfeulhB36S"
      },
      "execution_count": null,
      "outputs": []
    }
  ]
}